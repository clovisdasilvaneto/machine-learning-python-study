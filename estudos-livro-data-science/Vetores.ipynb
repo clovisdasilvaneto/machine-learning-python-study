{
 "cells": [
  {
   "cell_type": "code",
   "execution_count": 20,
   "metadata": {},
   "outputs": [
    {
     "data": {
      "text/plain": [
       "[14, 30, 45]"
      ]
     },
     "execution_count": 20,
     "metadata": {},
     "output_type": "execute_result"
    }
   ],
   "source": [
    "from functools import reduce\n",
    "\n",
    "def vector_add(v1, v2):\n",
    "    return [v_1 + v_2 for v_1, v_2 in zip(v1,v2)];\n",
    "\n",
    "def vector_sum(vectors):\n",
    "    return reduce(vector_add, vectors);\n",
    "\n",
    "def scalar_multiply(c, v):\n",
    "    return [c * v_i for v_i in v];\n",
    "\n",
    "def vector_mean(vectors):\n",
    "    n = len(vectors);\n",
    "    return scalar_multiply(1/n, vector_sum(vectors))\n",
    "\n",
    "vt1 = [4,10,15];\n",
    "vt2 = [10,20,30];\n",
    "\n",
    "vector_add(vt1, vt2)"
   ]
  }
 ],
 "metadata": {
  "kernelspec": {
   "display_name": "Python 3",
   "language": "python",
   "name": "python3"
  },
  "language_info": {
   "codemirror_mode": {
    "name": "ipython",
    "version": 3
   },
   "file_extension": ".py",
   "mimetype": "text/x-python",
   "name": "python",
   "nbconvert_exporter": "python",
   "pygments_lexer": "ipython3",
   "version": "3.6.1"
  }
 },
 "nbformat": 4,
 "nbformat_minor": 2
}
