{
 "cells": [
  {
   "cell_type": "code",
   "execution_count": 19,
   "metadata": {},
   "outputs": [
    {
     "name": "stdout",
     "output_type": "stream",
     "text": [
      "150\n"
     ]
    },
    {
     "data": {
      "text/plain": [
       "0.95999999999999996"
      ]
     },
     "execution_count": 19,
     "metadata": {},
     "output_type": "execute_result"
    }
   ],
   "source": [
    "from sklearn.linear_model import LogisticRegression;\n",
    "from sklearn.datasets import load_iris;\n",
    "from sklearn import metrics\n",
    "\n",
    "logreg = LogisticRegression();\n",
    "iris = load_iris();\n",
    "x = iris.data;\n",
    "y = iris.target;\n",
    "\n",
    "logreg.fit(x,y);\n",
    "logreg.predict(x);\n",
    "\n",
    "y_predict = logreg.predict(x);\n",
    "\n",
    "## How many?\n",
    "print(len(y_predict));\n",
    "\n",
    "## Check if my model is good\n",
    "metrics.accuracy_score(y, y_predict)"
   ]
  }
 ],
 "metadata": {
  "kernelspec": {
   "display_name": "Python 3",
   "language": "python",
   "name": "python3"
  },
  "language_info": {
   "codemirror_mode": {
    "name": "ipython",
    "version": 3
   },
   "file_extension": ".py",
   "mimetype": "text/x-python",
   "name": "python",
   "nbconvert_exporter": "python",
   "pygments_lexer": "ipython3",
   "version": "3.6.1"
  }
 },
 "nbformat": 4,
 "nbformat_minor": 2
}
