{
 "cells": [
  {
   "cell_type": "code",
   "execution_count": 126,
   "metadata": {},
   "outputs": [],
   "source": [
    "import math\n",
    "from functools import reduce\n",
    "from __future__ import division\n",
    "from collections import Counter\n",
    "\n",
    "def shape(matrix):\n",
    "    num_rows = len(matrix);\n",
    "    num_cols = len(matrix[0]);\n",
    "    \n",
    "    return num_rows, num_cols;\n",
    "\n",
    "def get_row(matrix, row_index):\n",
    "    return matrix[row_index]\n",
    "\n",
    "def get_column(matrix, column_index):\n",
    "    return [m_i[column_index] for m_i in matrix]\n",
    "\n",
    "def vector_add(v1, v2):\n",
    "    return [x + y for x, y in zip(v1, v2)]\n",
    "\n",
    "def vector_subtract(v1, v2):\n",
    "    return [x - y for x, y in zip(v1, v2)];\n",
    "\n",
    "def vector_sum(vectors):\n",
    "    return reduce(vector_add, vectors);\n",
    "\n",
    "def scalar_multiply(num, vector):\n",
    "    return [num * x for x in vector]\n",
    "\n",
    "def vector_mean(vectors):\n",
    "    n = len(vectors);\n",
    "\n",
    "    return scalar_multiply(1/n, vector_sum(vectors))\n",
    "\n",
    "def dot(v,w):\n",
    "    return sum(v_i * w_i for v_i, w_i in zip(v,w))\n",
    "\n",
    "def sum_of_squares(v):\n",
    "    return dot(v, v)\n",
    "\n",
    "def magnitude(v):\n",
    "    return math.sqrt(sum_of_squares(v))\n",
    "\n",
    "def distance(v, w):\n",
    "    return magnitude(vector_subtract(v, w))\n",
    "\n",
    "def mean(x):\n",
    "    return sum(x) / len(x)\n",
    "\n",
    "def median(v):\n",
    "    n = len(v);\n",
    "    sorted_v = sorted(v);\n",
    "    midpoint = n // 2;\n",
    "    \n",
    "    if n % 2 == 1:\n",
    "        return sorted_v[midpoint]\n",
    "    else: \n",
    "        return mean([sorted_v[midpoint], sorted_v[midpoint-1]])\n",
    "\n",
    "def quantile(x, p):\n",
    "    p_index = int(p * len(x));\n",
    "\n",
    "    return sorted(x)[p_index]\n",
    "\n",
    "def mode(x):\n",
    "    counts = Counter(x);\n",
    "    max_count = max(counts.values());\n",
    "    return [x_i for x_i, count in counts.items()\n",
    "           if count == max_count\n",
    "           ]\n",
    "## Amplitude is already used in python, so I've putted date_range\n",
    "def data_range(vector):\n",
    "    return max(vector) - min(vector)\n",
    "\n",
    "def de_mean(v):\n",
    "    v_bar = mean(v);\n",
    "    return [v_i - v_bar for v_i in v]\n",
    "\n",
    "def variance(v):\n",
    "    n = len(v);\n",
    "    desviations = de_mean(v);\n",
    "    return sum_of_squares(desviations) / (n - 1)\n",
    "\n",
    "def standard_desviation(x_variance):\n",
    "    return math.sqrt(variance(x_variance))\n",
    "\n",
    "def interquantile_range(v):\n",
    "    return quantile(v, 0.75) - quantile(v, 0.25)\n",
    "\n",
    "def covariance(v1, v2):\n",
    "    n = len(v1);\n",
    "    return dot(de_mean(v1), de_mean(v2)) / (n - 1)\n",
    "\n",
    "def correlation(v1, v2):\n",
    "    stedv_v1 = standard_desviation(v1);\n",
    "    stedv_v2 = standard_desviation(v2);\n",
    "\n",
    "    if stedv_v1 > 0 and stedv_v2 > 0:\n",
    "        return covariance(v1, v2) / stedv_v1 / stedv_v2\n",
    "    else:\n",
    "        return 0"
   ]
  },
  {
   "cell_type": "code",
   "execution_count": 192,
   "metadata": {},
   "outputs": [
    {
     "data": {
      "text/plain": [
       "0.9701365270292865"
      ]
     },
     "execution_count": 192,
     "metadata": {},
     "output_type": "execute_result"
    }
   ],
   "source": [
    "from matplotlib import pyplot as plt;\n",
    "\n",
    "num_friends = [40, 50, 60, 30, 45, 77, 80, 31, 32, 100];\n",
    "daily_minutes_online = [120, 130, 150, 100, 125, 160, 165, 100, 122, 180];\n",
    "\n",
    "correlation(num_friends, daily_minutes_online)"
   ]
  },
  {
   "cell_type": "markdown",
   "metadata": {},
   "source": [
    "## Let's plot this correlation 😃"
   ]
  },
  {
   "cell_type": "code",
   "execution_count": 193,
   "metadata": {},
   "outputs": [
    {
     "data": {
      "image/png": "[encoded data removed]",
      "text/plain": [
       "<matplotlib.figure.Figure at 0x10eb22518>"
      ]
     },
     "metadata": {},
     "output_type": "display_data"
    }
   ],
   "source": [
    "plt.scatter(daily_minutes_online, num_friends)\n",
    "plt.yticks(range(0, 200, 20))\n",
    "plt.xticks(range(0, 300, 40))\n",
    "plt.show()"
   ]
  }
 ],
 "metadata": {
  "kernelspec": {
   "display_name": "Python 3",
   "language": "python",
   "name": "python3"
  },
  "language_info": {
   "codemirror_mode": {
    "name": "ipython",
    "version": 3
   },
   "file_extension": ".py",
   "mimetype": "text/x-python",
   "name": "python",
   "nbconvert_exporter": "python",
   "pygments_lexer": "ipython3",
   "version": "3.6.1"
  }
 },
 "nbformat": 4,
 "nbformat_minor": 2
}
