{
 "cells": [
  {
   "cell_type": "code",
   "execution_count": 106,
   "metadata": {},
   "outputs": [
    {
     "data": {
      "text/plain": [
       "1.7320508075688772"
      ]
     },
     "execution_count": 106,
     "metadata": {},
     "output_type": "execute_result"
    }
   ],
   "source": [
    "import math\n",
    "from functools import reduce\n",
    "\n",
    "def vector_add(v1, v2):\n",
    "    return [x + y for x, y in zip(v1, v2)]\n",
    "\n",
    "def vector_subtract(v1, v2):\n",
    "    return [x - y for x, y in zip(v1, v2)];\n",
    "\n",
    "def vector_sum(vectors):\n",
    "    return reduce(vector_add, vectors);\n",
    "\n",
    "def scalar_multiply(num, vector):\n",
    "    return [num * x for x in vector]\n",
    "\n",
    "def vector_mean(vectors):\n",
    "    n = len(vectors);\n",
    "\n",
    "    return scalar_multiply(1/n, vector_sum(vectors))\n",
    "\n",
    "def dot(v,w):\n",
    "    return sum(v_i * w_i for v_i, w_i in zip(v,w))\n",
    "\n",
    "def sum_of_squares(v):\n",
    "    return dot(v, v)\n",
    "\n",
    "def magnitude(v):\n",
    "    return math.sqrt(sum_of_squares(v))\n",
    "\n",
    "def distance(v, w):\n",
    "    return magnitude(vector_subtract(v, w))\n",
    "\n",
    "distance([1,1,1], [2,2,2])"
   ]
  },
  {
   "cell_type": "code",
   "execution_count": 45,
   "metadata": {
    "collapsed": true
   },
   "outputs": [],
   "source": [
    "import matplotlib.pyplot as plt"
   ]
  },
  {
   "cell_type": "code",
   "execution_count": 83,
   "metadata": {},
   "outputs": [
    {
     "data": {
      "image/png": "[encoded data removed]",
      "text/plain": [
       "<matplotlib.figure.Figure at 0x11384bc50>"
      ]
     },
     "metadata": {},
     "output_type": "display_data"
    },
    {
     "name": "stdout",
     "output_type": "stream",
     "text": [
      "[0, 1] [0, 2]\n"
     ]
    }
   ],
   "source": [
    "w = [0,1];\n",
    "v = vector_sum([w,w]);\n",
    "\n",
    "axes = plt.gca()\n",
    "axes.set_ylim([-0.5, 3])\n",
    "axes.set_xlim([-0.5, 3])\n",
    "plt.plot(w, w, c='red', ls='-', label='w')\n",
    "plt.plot(v, w, c='blue', ls='-', label='v')\n",
    "plt.legend()\n",
    "plt.show()\n",
    "\n",
    "print(w,v)"
   ]
  },
  {
   "cell_type": "code",
   "execution_count": null,
   "metadata": {
    "collapsed": true
   },
   "outputs": [],
   "source": []
  }
 ],
 "metadata": {
  "kernelspec": {
   "display_name": "Python 3",
   "language": "python",
   "name": "python3"
  },
  "language_info": {
   "codemirror_mode": {
    "name": "ipython",
    "version": 3
   },
   "file_extension": ".py",
   "mimetype": "text/x-python",
   "name": "python",
   "nbconvert_exporter": "python",
   "pygments_lexer": "ipython3",
   "version": "3.6.1"
  }
 },
 "nbformat": 4,
 "nbformat_minor": 2
}
