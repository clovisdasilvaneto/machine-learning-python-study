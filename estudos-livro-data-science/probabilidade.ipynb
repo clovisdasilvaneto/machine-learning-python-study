{
 "cells": [
  {
   "cell_type": "code",
   "execution_count": 59,
   "metadata": {},
   "outputs": [
    {
     "name": "stdout",
     "output_type": "stream",
     "text": [
      "Qualquer menina:  0.3311897106109325\n",
      "Mais velha:  0.5007089325501317\n"
     ]
    }
   ],
   "source": [
    "import random\n",
    "\n",
    "def random_kid():\n",
    "    return random.choice([\"boy\", \"girl\"]);\n",
    "\n",
    "both_girls = 0;\n",
    "either_girl = 0;\n",
    "older_girl = 0;\n",
    "\n",
    "random.seed(0);\n",
    "for _ in range(10000):\n",
    "    younger, older = [random_kid(), random_kid()]\n",
    "    \n",
    "    if older == 'girl':\n",
    "        older_girl += 1;\n",
    "    if older == 'girl' and younger == 'girl':\n",
    "        both_girls += 1;\n",
    "    if older == 'girl' or younger == 'girl':\n",
    "        either_girl += 1;\n",
    "\n",
    "print('Qualquer menina: ', both_girls/either_girl)\n",
    "print('Mais velha: ', both_girls/older_girl)"
   ]
  },
  {
   "cell_type": "markdown",
   "metadata": {},
   "source": [
    "## Teorema de Bayes"
   ]
  },
  {
   "cell_type": "code",
   "execution_count": 74,
   "metadata": {},
   "outputs": [
    {
     "name": "stdout",
     "output_type": "stream",
     "text": [
      "0.00980392156862745\n"
     ]
    }
   ],
   "source": [
    "def bayes(p_TD, p_D, p_T_D, p__D):\n",
    "    return p_TD * p_D / (p_TD * p_D + p_T_D * p__D);\n",
    "\n",
    "print(bayes(0.99, 0.0001, 0.01, 0.9999));"
   ]
  }
 ],
 "metadata": {
  "kernelspec": {
   "display_name": "Python 3",
   "language": "python",
   "name": "python3"
  },
  "language_info": {
   "codemirror_mode": {
    "name": "ipython",
    "version": 3
   },
   "file_extension": ".py",
   "mimetype": "text/x-python",
   "name": "python",
   "nbconvert_exporter": "python",
   "pygments_lexer": "ipython3",
   "version": "3.6.1"
  }
 },
 "nbformat": 4,
 "nbformat_minor": 2
}
