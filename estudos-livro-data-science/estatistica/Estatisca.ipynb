{
 "cells": [
  {
   "cell_type": "code",
   "execution_count": 4,
   "metadata": {},
   "outputs": [
    {
     "data": {
      "image/png": "[encoded data removed]",
      "text/plain": [
       "<matplotlib.figure.Figure at 0x10db44d68>"
      ]
     },
     "metadata": {},
     "output_type": "display_data"
    }
   ],
   "source": [
    "from collections import Counter;\n",
    "from matplotlib import pyplot as plt;\n",
    "\n",
    "num_friends = [1,2,3,4,5,6,7,10,11,11,12,13,14,15,16,17,18,19,20,18,19,20];\n",
    "friends_counter = Counter(num_friends);\n",
    "xs = range(20)\n",
    "ys = [friends_counter[x] for x in xs];\n",
    "\n",
    "plt.bar(xs, ys);\n",
    "plt.axis([0, 20, 0, 25]);\n",
    "plt.show();"
   ]
  },
  {
   "cell_type": "markdown",
   "metadata": {},
   "source": [
    "## Tendencias Centrais"
   ]
  },
  {
   "cell_type": "code",
   "execution_count": 5,
   "metadata": {},
   "outputs": [
    {
     "data": {
      "text/plain": [
       "11.863636363636363"
      ]
     },
     "execution_count": 5,
     "metadata": {},
     "output_type": "execute_result"
    }
   ],
   "source": [
    "from __future__ import division\n",
    "\n",
    "def mean(x):\n",
    "    return sum(x) / len(x);\n",
    "\n",
    "def median(v):\n",
    "    n = len(v)\n",
    "    sorted_v = sorted(v)\n",
    "    midpoint = n // 2;\n",
    "    \n",
    "    if n % 2 == 1:\n",
    "        return sorted_v[midpoint]\n",
    "    else: \n",
    "        lo = midpoint -1;\n",
    "        hi = midpoint;\n",
    "        return (sorted_v[lo] + sorted_v[hi]) / 2;\n",
    "\n",
    "def quantile(x, p):\n",
    "    p_index = int(p * len(x));\n",
    "    return sorted(x)[p_index];\n",
    "    \n",
    "mean(num_friends)"
   ]
  },
  {
   "cell_type": "code",
   "execution_count": 122,
   "metadata": {},
   "outputs": [
    {
     "data": {
      "text/plain": [
       "[11, 18, 19, 20]"
      ]
     },
     "execution_count": 122,
     "metadata": {},
     "output_type": "execute_result"
    }
   ],
   "source": [
    "def mode(x):\n",
    "    counts = Counter(x);\n",
    "    max_count = max(counts.values())\n",
    "    \n",
    "    return [x_i for x_i, count in counts.items()\n",
    "               if count == max_count];\n",
    "\n",
    "mode(num_friends)"
   ]
  },
  {
   "cell_type": "markdown",
   "metadata": {},
   "source": [
    "## Dispersão"
   ]
  },
  {
   "cell_type": "code",
   "execution_count": 163,
   "metadata": {},
   "outputs": [
    {
     "data": {
      "text/plain": [
       "<enumerate at 0x11670bfc0>"
      ]
     },
     "execution_count": 163,
     "metadata": {},
     "output_type": "execute_result"
    }
   ],
   "source": [
    "def dot(v,w):\n",
    "    return sum(vi * wi for vi, wi in zip(v, w));\n",
    "\n",
    "def sum_of_squares(v):\n",
    "    return dot(v,v)\n",
    "\n",
    "def data_range(x):\n",
    "    return max(x) - min(x)\n",
    "\n",
    "def de_mean(x):\n",
    "    x_bar = mean(x)\n",
    "    return [x_i - x_bar for x_i in x];\n",
    "\n",
    "def variance(x):\n",
    "    n = len(x);\n",
    "    deviations = de_mean(x);\n",
    "    return sum_of_squares(deviations) / (n - 1)\n",
    "\n",
    "def interquartile_range(x):\n",
    "    return quantile(x, 0.75) - quantile(x, 0.25);\n",
    "\n",
    "def covariance(x,y):\n",
    "    n = len(x);\n",
    "    return dot(de_mean(x), de_mean(y)) / (n - 1);\n",
    "\n",
    "daily_minutes = [1,2,3,4,5,6,7,10,11,11,12,13,14,15,16,17,18,19,20,18,19,20];\n",
    "\n",
    "covariance(num_friends, daily_minutes)\n",
    "\n",
    "enumerate(num_friends)"
   ]
  }
 ],
 "metadata": {
  "kernelspec": {
   "display_name": "Python 3",
   "language": "python",
   "name": "python3"
  },
  "language_info": {
   "codemirror_mode": {
    "name": "ipython",
    "version": 3
   },
   "file_extension": ".py",
   "mimetype": "text/x-python",
   "name": "python",
   "nbconvert_exporter": "python",
   "pygments_lexer": "ipython3",
   "version": "3.6.1"
  }
 },
 "nbformat": 4,
 "nbformat_minor": 2
}
