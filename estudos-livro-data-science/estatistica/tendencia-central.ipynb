{
 "cells": [
  {
   "cell_type": "markdown",
   "metadata": {},
   "source": [
    "## Média e médiana"
   ]
  },
  {
   "cell_type": "code",
   "execution_count": 310,
   "metadata": {},
   "outputs": [
    {
     "name": "stdout",
     "output_type": "stream",
     "text": [
      "A média ponderada dos alunos é de:  7.5\n"
     ]
    }
   ],
   "source": [
    "from collections import Counter;\n",
    "from matplotlib import pyplot as plt;\n",
    "\n",
    "def simple_mean(v):\n",
    "    return sum(v) / len(v);\n",
    "\n",
    "def pond_median(v, w):\n",
    "    sum_vw = [x * y for x,y in zip(v,w)];\n",
    "    return sum(sum_vw) / sum(v);\n",
    "    \n",
    "n_alunos = [4,2,3,3];\n",
    "notes = [10, 8.5, 6, 5];\n",
    "    \n",
    "print('A média ponderada dos alunos é de: ', pond_median(n_alunos, notes));"
   ]
  },
  {
   "cell_type": "markdown",
   "metadata": {},
   "source": [
    "## Rol"
   ]
  },
  {
   "cell_type": "code",
   "execution_count": 29,
   "metadata": {},
   "outputs": [
    {
     "data": {
      "text/plain": [
       "[2, 3, 3, 4]"
      ]
     },
     "execution_count": 29,
     "metadata": {},
     "output_type": "execute_result"
    }
   ],
   "source": [
    "## Rol é quando ordenamos os dados de um vetor, seja crescente ou decrescente\n",
    "sorted(n_alunos) "
   ]
  },
  {
   "cell_type": "markdown",
   "metadata": {},
   "source": [
    "Encontre a nota modal e a médiana da tabela abaixo:\n",
    "\n",
    "| N. Alunos   |      Notas      |\n",
    "|-------------|:---------------:|\n",
    "| 4           | 7               |\n",
    "| 2           | 5               |\n",
    "| 2           | 6               |\n",
    "| 1           | 9.5             |"
   ]
  },
  {
   "cell_type": "code",
   "execution_count": 124,
   "metadata": {},
   "outputs": [
    {
     "name": "stdout",
     "output_type": "stream",
     "text": [
      "A moda é:  [5, 7]\n",
      "A médiana da nota dos alunos é: 6.25\n"
     ]
    }
   ],
   "source": [
    "from collections import Counter;\n",
    "\n",
    "n_alunos = [4,4,2,1,1];\n",
    "notes = [7,5,6,9.5,6.5];\n",
    "\n",
    "def get_rol(n_alunos, notes):\n",
    "    desorganized_notes = [];\n",
    "    \n",
    "    for i, value in enumerate(n_alunos):\n",
    "        j = 0;\n",
    "        \n",
    "        while(j < int(value)):\n",
    "            desorganized_notes.append(notes[i]);\n",
    "            j = j + 1;\n",
    "            \n",
    "    return sorted(desorganized_notes);\n",
    "            \n",
    "def median(v):\n",
    "    num_v = len(v);\n",
    "    middle_v = num_v // 2;\n",
    "    \n",
    "    if num_v % 2 == 1:\n",
    "        return v[middle_v]\n",
    "    else:    \n",
    "        return simple_mean((v[middle_v - 1], v[middle_v]))\n",
    "    \n",
    "def get_moda(v):\n",
    "    count = Counter(v);\n",
    "    commons = count.most_common();\n",
    "    num_max = commons[0][1];\n",
    "\n",
    "    return [value for value, repeated_times in commons\n",
    "                if repeated_times == num_max];\n",
    "        \n",
    "    \n",
    "rol = get_rol(n_alunos, notes);\n",
    "md = median(rol);\n",
    "\n",
    "print('A moda é: ', get_moda(rol));\n",
    "print('A médiana da nota dos alunos é:', md);"
   ]
  },
  {
   "cell_type": "markdown",
   "metadata": {},
   "source": [
    "## Dispersão\n",
    "\n",
    "### Amplitude"
   ]
  },
  {
   "cell_type": "code",
   "execution_count": 126,
   "metadata": {},
   "outputs": [
    {
     "data": {
      "text/plain": [
       "3"
      ]
     },
     "execution_count": 126,
     "metadata": {},
     "output_type": "execute_result"
    }
   ],
   "source": [
    "def data_range(x):\n",
    "    return max(x) - min(x)\n",
    "\n",
    "data_range(n_alunos)"
   ]
  },
  {
   "cell_type": "markdown",
   "metadata": {},
   "source": [
    "### Desvio padrão e variância\n",
    "\n",
    "Calcule o desvio padrão e a variancia destes valores:\n",
    "\n",
    "[7,5,6,9.5,6.5]"
   ]
  },
  {
   "cell_type": "code",
   "execution_count": null,
   "metadata": {
    "collapsed": true
   },
   "outputs": [],
   "source": [
    "import math \n",
    "\n",
    "def sum_of_square_and_md(v, md):\n",
    "    return sum([(x - md )** 2 for i,x in enumerate(v)]);\n",
    "\n",
    "def variance(v):\n",
    "    md = simple_mean(v);\n",
    "    n = len(v);\n",
    "    \n",
    "    return sum_of_square_and_md(v, md) / (n - 1);\n",
    "\n",
    "def desvio(v):\n",
    "    return math.sqrt(variance(v));\n",
    "\n",
    "def quantile(x, p):\n",
    "    p_index = int(p*len(x));\n",
    "    return sorted(x)[p_index];\n",
    "\n",
    "def interquartile_range(x):\n",
    "    return quantile(x, 0.75) - quantile(x, 0.25);\n",
    "\n",
    "def dot(v,w):\n",
    "    return sum(vi * wi for vi, wi in zip(v, w));\n",
    "\n",
    "values = [7,5,6,9.5,6.57,5,6,9.5,6.5];\n",
    "\n",
    "print('variancia: ', variance(values))\n",
    "print('Desvio padrão: ', desvio(values))\n",
    "print('Interquantile:', interquartile_range(values));\n",
    "print('------------------------------------------')\n",
    "print('Média:', simple_mean(values));"
   ]
  },
  {
   "cell_type": "markdown",
   "metadata": {},
   "source": [
    "## Probabilidade\n",
    "\n",
    "calcular a possibilidade de ganhar na megasena"
   ]
  },
  {
   "cell_type": "code",
   "execution_count": 236,
   "metadata": {},
   "outputs": [
    {
     "name": "stdout",
     "output_type": "stream",
     "text": [
      "Trocando as portas, a porcentagem das sua escolha ser ruim ou boa é: \n",
      "{'bad': 0.16666666666666666, 'good': 0.8333333333333334}\n"
     ]
    }
   ],
   "source": [
    "def factorial(value, num):\n",
    "    total = value;\n",
    "    \n",
    "    for x in range(num):\n",
    "        calc = value - (x + 1)\n",
    "\n",
    "        if calc:\n",
    "            total = total * (value - (x + 1))\n",
    "        \n",
    "    return total;\n",
    "\n",
    "## n! / p!*(n-p)!\n",
    "## onde '!' = fator\n",
    "## Esta função serve para calcular o numero de combinações possiveis\n",
    "def calcular_possibilidades_no_espaco_amostral(n, p):\n",
    "    return factorial(n,p-1) / factorial(p, p)\n",
    "\n",
    "def change_door_game(v, gold_value):\n",
    "    choice = {'bad': 0, 'good': 0}\n",
    "    for i,value in enumerate(v):\n",
    "        if value != gold_value:\n",
    "            choice['good'] += 1;\n",
    "        else:\n",
    "            choice['bad'] += 1;\n",
    "        \n",
    "    choice['bad'] = choice['bad'] / len(v);\n",
    "    choice['good'] = choice['good'] / len(v);\n",
    "    \n",
    "    return choice\n",
    "\n",
    "print('Trocando as portas, a porcentagem das sua escolha ser ruim ou boa é: ')\n",
    "print(change_door_game(['car','poop','poop','poop','poop','poop'], 'car'))"
   ]
  },
  {
   "cell_type": "markdown",
   "metadata": {},
   "source": [
    "## Variáveis aleatórias\n",
    "\n",
    "Dado 5 caixas, qual a probabilidade de 2 caixas que passam 40% do tempo do dia ocupados, estarem livres quando você for usar?"
   ]
  },
  {
   "cell_type": "code",
   "execution_count": 306,
   "metadata": {},
   "outputs": [
    {
     "name": "stdout",
     "output_type": "stream",
     "text": [
      "Logo a probabilidade é de: 0.23040000000000005\n"
     ]
    }
   ],
   "source": [
    "## Irei usar a formula de \n",
    "## P(X=k) = (5*k) * 0.4 elevado a k * 0.6 elevado a k\n",
    "## onde 0.4 é os 40% do dia ocupado\n",
    "\n",
    "def binominal_distribuition(k, timer, qtd):\n",
    "    return calcular_possibilidades_no_espaco_amostral(qtd, k) * (timer ** k) * ((1-timer) ** (qtd - k))\n",
    "\n",
    "print('Logo a probabilidade é de:', binominal_distribuition(3, 0.4, 5))"
   ]
  },
  {
   "cell_type": "markdown",
   "metadata": {},
   "source": [
    "### Linha de produdução de bebidas\n",
    "\n",
    "- 20% defeitos\n",
    "- Amostra N = 8\n",
    "- X = Peças defeituosas\n",
    "- P(X=2)=?\n"
   ]
  },
  {
   "cell_type": "code",
   "execution_count": 307,
   "metadata": {},
   "outputs": [
    {
     "data": {
      "text/plain": [
       "0.29360128000000013"
      ]
     },
     "execution_count": 307,
     "metadata": {},
     "output_type": "execute_result"
    }
   ],
   "source": [
    "binominal_distribuition(2,0.2,8)"
   ]
  },
  {
   "cell_type": "markdown",
   "metadata": {},
   "source": [
    "## Distribuição Normal\n"
   ]
  },
  {
   "cell_type": "code",
   "execution_count": 370,
   "metadata": {},
   "outputs": [
    {
     "data": {
      "image/png": "[encoded data removed]",
      "text/plain": [
       "<matplotlib.figure.Figure at 0x10e5a5f60>"
      ]
     },
     "metadata": {},
     "output_type": "display_data"
    }
   ],
   "source": [
    "def normal_pdf(x, mu=0, sigma=1):\n",
    "    sqrt_two_pi = math.sqrt(2*math.pi);\n",
    "    return (math.exp(-(x-mu)**2/2/sigma**2)/(sqrt_two_pi*sigma))\n",
    "\n",
    "xs = [x/10 for x in range(-50,50)]\n",
    "plt.plot(xs, [normal_pdf(x,sigma=1) for x in xs], '-', label='mu=0, sigma=1')\n",
    "plt.plot(xs, [normal_pdf(x,sigma=2) for x in xs], '--', label='mu=0, sigma=2')\n",
    "plt.plot(xs, [normal_pdf(x,sigma=0.5) for x in xs], ':', label='mu=0, sigma=0.5')\n",
    "plt.plot(xs, [normal_pdf(x,sigma=3) for x in xs], '-.', label='mu=0, sigma=3')\n",
    "plt.legend()\n",
    "plt.title('Diversas funções de densidade de probabilidade normais');\n",
    "plt.show()"
   ]
  },
  {
   "cell_type": "markdown",
   "metadata": {},
   "source": [
    "### Problema\n",
    "\n",
    "Suponha que você tenha 1 industria que 60% das peças torneadas são polidas. Dada uma amostra com 10 peças torneadas, qual a probabilidade de 8 ou mais, terem sidos polida? Qual a média e a variância desta amostra?"
   ]
  },
  {
   "cell_type": "code",
   "execution_count": 362,
   "metadata": {},
   "outputs": [
    {
     "name": "stdout",
     "output_type": "stream",
     "text": [
      "A probabilidade é: 0.16728975359999995\n",
      "A média é: 6.0\n",
      "A variancia é: 2.4000000000000004\n"
     ]
    },
    {
     "data": {
      "text/plain": [
       "0.14378526851751092"
      ]
     },
     "execution_count": 362,
     "metadata": {},
     "output_type": "execute_result"
    }
   ],
   "source": [
    "p8 = binominal_distribuition(8, 0.6, 10);\n",
    "p9 = binominal_distribuition(9, 0.6, 10);\n",
    "p10 = binominal_distribuition(10, 0.6, 10);\n",
    "\n",
    "p8_9_10 = p8 + p9 + p10;\n",
    "mu = 10 * 0.6;\n",
    "sigma = 10 * 0.6 * (1 - 0.6);\n",
    "\n",
    "print('A probabilidade é:', p8_9_10);\n",
    "print('A média é:', mu);\n",
    "print('A variancia é:', sigma);\n"
   ]
  },
  {
   "cell_type": "markdown",
   "metadata": {},
   "source": [
    "### Distribuição de Poisson"
   ]
  },
  {
   "cell_type": "code",
   "execution_count": null,
   "metadata": {
    "collapsed": true
   },
   "outputs": [],
   "source": [
    "def poisson(X, delta, t):\n",
    "    if X:\n",
    "        fac_x = factorial(X,X);\n",
    "    else:\n",
    "        fac_x = factorial(1,1);\n",
    "\n",
    "    return round(math.exp(-delta*t)*((delta*t)** X) / fac_x, 3)\n",
    "\n",
    "def getBugsProbabilidade(value):\n",
    "    return poisson(value, 0.2, 4);\n",
    "\n",
    "p1 = getBugsProbabilidade(0);\n",
    "p2 = getBugsProbabilidade(1);\n",
    "p3 = getBugsProbabilidade(2);\n",
    "p4 = getBugsProbabilidade(3);\n",
    "\n",
    "p_four_bugs = 1 - p1 - p2 - p3 - p4;\n",
    "\n",
    "## preco medio = preço(defeitos=x)*probabilidade(defeitos=x)\n",
    "md_price = p1 * 50 + p2 * 45 + p3 * 40 + p4 * 35 + p_four_bugs * 30;\n",
    "print(md_price)"
   ]
  },
  {
   "cell_type": "markdown",
   "metadata": {},
   "source": [
    "Dado um elevador de 300kg, qual a probabilidade dele parar se tivermos 13 passageiros com a média de 70kg"
   ]
  }
 ],
 "metadata": {
  "kernelspec": {
   "display_name": "Python 3",
   "language": "python",
   "name": "python3"
  },
  "language_info": {
   "codemirror_mode": {
    "name": "ipython",
    "version": 3
   },
   "file_extension": ".py",
   "mimetype": "text/x-python",
   "name": "python",
   "nbconvert_exporter": "python",
   "pygments_lexer": "ipython3",
   "version": "3.6.1"
  }
 },
 "nbformat": 4,
 "nbformat_minor": 2
}
