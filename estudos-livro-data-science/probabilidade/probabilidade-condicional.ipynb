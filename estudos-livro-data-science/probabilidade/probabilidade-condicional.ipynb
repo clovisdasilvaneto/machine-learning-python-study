{
 "cells": [
  {
   "cell_type": "markdown",
   "metadata": {},
   "source": [
    "### Intro\n",
    "\n",
    "When two events are independents we can say, in probability: __P(E,F) = P(E)P(F)__\n",
    "\n",
    "\n",
    "### Conditional Probability\n",
    "\n",
    "Weh two events aren't independents we can say: __P(E|F) = P(E,F)|P(F)__\n",
    "\n",
    "We can write also in this pattern: __P(E,F)=P(E|F)P(F)__\n",
    "\n",
    "When __E__ and __F__ are independents we can write: __P(E|F)=P(E)__"
   ]
  },
  {
   "cell_type": "code",
   "execution_count": null,
   "metadata": {
    "collapsed": true
   },
   "outputs": [],
   "source": []
  }
 ],
 "metadata": {
  "kernelspec": {
   "display_name": "Python 3",
   "language": "python",
   "name": "python3"
  },
  "language_info": {
   "codemirror_mode": {
    "name": "ipython",
    "version": 3
   },
   "file_extension": ".py",
   "mimetype": "text/x-python",
   "name": "python",
   "nbconvert_exporter": "python",
   "pygments_lexer": "ipython3",
   "version": "3.6.1"
  }
 },
 "nbformat": 4,
 "nbformat_minor": 2
}
