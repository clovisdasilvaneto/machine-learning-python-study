{
 "cells": [
  {
   "cell_type": "raw",
   "metadata": {
    "collapsed": true
   },
   "source": [
    "from collections import defaultdict, Counter\n",
    "\n",
    "users = [\n",
    "    {\"id\": 0, \"name\": \"Hero\"},\n",
    "    {\"id\": 1, \"name\": \"Janaina\"},\n",
    "    {\"id\": 2, \"name\": \"Jéssica\"},\n",
    "    {\"id\": 3, \"name\": \"Jenny\"},\n",
    "    {\"id\": 4, \"name\": \"Clóvis\"},\n",
    "    {\"id\": 5, \"name\": \"Jesse\"},\n",
    "];\n",
    "\n",
    "friendships = [(0,1), (0,2), (1,2), (2,1), \n",
    "              (3,1), (3,2), (3,4), (5,4),\n",
    "              (5,1), (5,2), (4,1)];"
   ]
  },
  {
   "cell_type": "markdown",
   "metadata": {},
   "source": [
    "## Problema 1\n",
    "\n",
    "Em cima destes dados, quero obter a lista de amigos de cada usuário e imprimir na tela, a variável friendships é a relação de 2 usúarios como amigos\n",
    "\n",
    "_Solução que eu encontrei, abaixo:_"
   ]
  },
  {
   "cell_type": "code",
   "execution_count": 44,
   "metadata": {},
   "outputs": [
    {
     "name": "stdout",
     "output_type": "stream",
     "text": [
      "Logo um dos amigos do primeiro usuário é:\n",
      "Janaina\n"
     ]
    }
   ],
   "source": [
    "def append_friend_in_user(user, friend):\n",
    "    return user['friends'].append(friend);\n",
    "\n",
    "for user in users:\n",
    "    user['friends'] = [];\n",
    "\n",
    "for i,j in friendships:\n",
    "    append_friend_in_user(users[i], users[j]);\n",
    "    append_friend_in_user(users[j], users[i]);\n",
    "    \n",
    "print('Logo um dos amigos do primeiro usuário é:')\n",
    "print(users[0]['friends'][0]['name'])"
   ]
  },
  {
   "cell_type": "markdown",
   "metadata": {},
   "source": [
    "## Problema 2 \n",
    "\n",
    "Em cima desta lista de amigos, quero que você analize para mim as pessoas mais conectadas, em ordem decrescente"
   ]
  },
  {
   "cell_type": "code",
   "execution_count": 107,
   "metadata": {},
   "outputs": [
    {
     "name": "stdout",
     "output_type": "stream",
     "text": [
      "\n",
      " Segue os dados analizados:\n",
      "[(1, 'Janaina', 6), (2, 'Jéssica', 5), (3, 'Jenny', 3), (4, 'Clóvis', 3), (5, 'Jesse', 3), (0, 'Hero', 2)]\n"
     ]
    }
   ],
   "source": [
    "def numberOfFriends(user):\n",
    "    return len(user['friends']);\n",
    "\n",
    "analized_data = [(user['id'], user['name'], numberOfFriends(user))\n",
    "                for user in users]\n",
    "\n",
    "print('\\n Segue os dados analizados:')\n",
    "print(sorted(analized_data, key=lambda analized_data: analized_data[2], reverse=True))"
   ]
  },
  {
   "cell_type": "markdown",
   "metadata": {},
   "source": [
    "## Problema 3\n",
    "\n",
    "Sabendo que os usuários que tiverem acima de 3 amigos, são os usuários que tem amigos acima da média; me traga os usuários que tem menos amigos e mais amigos em array distintas."
   ]
  },
  {
   "cell_type": "code",
   "execution_count": 115,
   "metadata": {},
   "outputs": [
    {
     "name": "stdout",
     "output_type": "stream",
     "text": [
      "Quem tem mais amigos são:  [(1, 'Janaina', 6), (2, 'Jéssica', 5)]\n",
      "Quem tem menos amigos são:  [(0, 'Hero', 2), (3, 'Jenny', 3), (4, 'Clóvis', 3), (5, 'Jesse', 3)]\n"
     ]
    }
   ],
   "source": [
    "mais_amigos = [user for user in analized_data if user[2] > 3]\n",
    "menos_amigos = [user for user in analized_data if user[2] <= 3]\n",
    "\n",
    "print('Quem tem mais amigos são: ', mais_amigos)\n",
    "print('Quem tem menos amigos são: ', menos_amigos)"
   ]
  },
  {
   "cell_type": "markdown",
   "metadata": {},
   "source": [
    "## Problema 4\n",
    "\n",
    "Represente num gráfico toda a sua análize"
   ]
  },
  {
   "cell_type": "code",
   "execution_count": 156,
   "metadata": {},
   "outputs": [
    {
     "data": {
      "image/png": "[encoded data removed]",
      "text/plain": [
       "<matplotlib.figure.Figure at 0x10e88b160>"
      ]
     },
     "metadata": {},
     "output_type": "display_data"
    }
   ],
   "source": [
    "from matplotlib import pyplot as plt\n",
    "\n",
    "number_of_friends = [user[2] for user in analized_data];\n",
    "names_of_users = [user[1] for user in analized_data];\n",
    "\n",
    "spaces_columns = [i + 0.1 for i,_ in enumerate(names_of_users)];\n",
    "\n",
    "## mostra o numero de amigos no eixo y, as barras irão ter a altura baseadas nestes números\n",
    "plt.bar(spaces_columns, number_of_friends);\n",
    "\n",
    "plt.xticks([i + 0.1 for i,_ in enumerate(names_of_users)], names_of_users);\n",
    "\n",
    "plt.ylabel(\"Quantidade de amigos\");\n",
    "plt.title(\"Quem está mais engajado?\");\n",
    "plt.show()"
   ]
  },
  {
   "cell_type": "markdown",
   "metadata": {},
   "source": [
    "## Problema 4\n",
    "\n",
    "Represente em gráfico os dados dos funcionários que tem mais de 3 amigos"
   ]
  },
  {
   "cell_type": "code",
   "execution_count": 183,
   "metadata": {},
   "outputs": [
    {
     "data": {
      "image/png": "[encoded data removed]",
      "text/plain": [
       "<matplotlib.figure.Figure at 0x10eb20080>"
      ]
     },
     "metadata": {},
     "output_type": "display_data"
    }
   ],
   "source": [
    "more_friends_number = [user[2] for user in analized_data if user[2] > 3]\n",
    "more_friends_names = [user[1] for user in analized_data if user[2] > 3]\n",
    "\n",
    "xs = [i + 0.8 for i,_ in enumerate(more_friends_number)]\n",
    "\n",
    "plt.bar(xs, more_friends_number, 0.8)\n",
    "plt.xticks([i + 0.8 for i,_ in enumerate(more_friends_number)], more_friends_names)\n",
    "\n",
    "plt.show()\n"
   ]
  }
 ],
 "metadata": {
  "kernelspec": {
   "display_name": "Python 3",
   "language": "python",
   "name": "python3"
  },
  "language_info": {
   "codemirror_mode": {
    "name": "ipython",
    "version": 3
   },
   "file_extension": ".py",
   "mimetype": "text/x-python",
   "name": "python",
   "nbconvert_exporter": "python",
   "pygments_lexer": "ipython3",
   "version": "3.6.1"
  }
 },
 "nbformat": 4,
 "nbformat_minor": 2
}
