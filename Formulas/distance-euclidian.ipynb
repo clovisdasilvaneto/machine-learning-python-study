{
 "cells": [
  {
   "cell_type": "code",
   "execution_count": 3,
   "metadata": {
    "collapsed": true
   },
   "outputs": [],
   "source": [
    "import math"
   ]
  },
  {
   "cell_type": "code",
   "execution_count": 19,
   "metadata": {},
   "outputs": [
    {
     "name": "stdout",
     "output_type": "stream",
     "text": [
      "The euclidian distance using numpy is: 2.00\n"
     ]
    }
   ],
   "source": [
    "v1 = [1,2,3,4];\n",
    "v2 = [2,3,4,5];\n",
    "\n",
    "def distance_euclidian(v1,v2):\n",
    "    dim, d_sum = len(v1), 0;\n",
    "    \n",
    "    for i in range(dim):\n",
    "        d_sum += math.pow(v1[i] - v2[i], 2);\n",
    "    \n",
    "    return math.sqrt(d_sum);\n",
    "\n",
    "print('The euclidian distance using numpy is: %.2f' % distance_euclidian(v1,v2));"
   ]
  },
  {
   "cell_type": "code",
   "execution_count": 18,
   "metadata": {},
   "outputs": [
    {
     "name": "stdout",
     "output_type": "stream",
     "text": [
      "The euclidian distance using numpy is: 2.00\n"
     ]
    }
   ],
   "source": [
    "## Using numpy\n",
    "import numpy as np\n",
    "\n",
    "v1 = np.array([1,2,3,4]);\n",
    "v2 = np.array([2,3,4,5]);\n",
    "\n",
    "diff = v1 - v2;\n",
    "sum_squad = np.dot(diff, diff);\n",
    "\n",
    "print('The euclidian distance using numpy is: %.2f' % np.sqrt(sum_squad));"
   ]
  }
 ],
 "metadata": {
  "kernelspec": {
   "display_name": "Python 3",
   "language": "python",
   "name": "python3"
  },
  "language_info": {
   "codemirror_mode": {
    "name": "ipython",
    "version": 3
   },
   "file_extension": ".py",
   "mimetype": "text/x-python",
   "name": "python",
   "nbconvert_exporter": "python",
   "pygments_lexer": "ipython3",
   "version": "3.6.1"
  }
 },
 "nbformat": 4,
 "nbformat_minor": 2
}
