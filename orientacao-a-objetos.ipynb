{
 "cells": [
  {
   "cell_type": "markdown",
   "metadata": {},
   "source": [
    "Orientação a objetos\n",
    "=="
   ]
  },
  {
   "cell_type": "code",
   "execution_count": 15,
   "metadata": {
    "collapsed": true
   },
   "outputs": [],
   "source": [
    "class Robo:\n",
    "    def __init__(self, x, y):\n",
    "        self.x = x;\n",
    "        self.y = y;\n",
    "    \n",
    "    def say_hello(self, message):\n",
    "        return message;"
   ]
  },
  {
   "cell_type": "code",
   "execution_count": 16,
   "metadata": {},
   "outputs": [
    {
     "data": {
      "text/plain": [
       "'asd'"
      ]
     },
     "execution_count": 16,
     "metadata": {},
     "output_type": "execute_result"
    }
   ],
   "source": [
    "robo1 = Robo(1,2)\n",
    "robo1.say_hello('asd')"
   ]
  },
  {
   "cell_type": "code",
   "execution_count": 24,
   "metadata": {},
   "outputs": [],
   "source": [
    "class RoboCOP(Robo):\n",
    "    def __init__(self, x, y, name):\n",
    "        super(RoboCOP, self).__init__(x, y);\n",
    "        self.name = name;        "
   ]
  },
  {
   "cell_type": "code",
   "execution_count": 28,
   "metadata": {},
   "outputs": [
    {
     "data": {
      "text/plain": [
       "'Olá meu nome é nevinha'"
      ]
     },
     "execution_count": 28,
     "metadata": {},
     "output_type": "execute_result"
    }
   ],
   "source": [
    "meu_robo = RoboCOP(1,2, 'nevinha');\n",
    "\n",
    "meu_robo.say_hello('Olá meu nome é '+meu_robo.name)"
   ]
  }
 ],
 "metadata": {
  "kernelspec": {
   "display_name": "Python 3",
   "language": "python",
   "name": "python3"
  },
  "language_info": {
   "codemirror_mode": {
    "name": "ipython",
    "version": 3
   },
   "file_extension": ".py",
   "mimetype": "text/x-python",
   "name": "python",
   "nbconvert_exporter": "python",
   "pygments_lexer": "ipython3",
   "version": "3.6.1"
  }
 },
 "nbformat": 4,
 "nbformat_minor": 2
}
