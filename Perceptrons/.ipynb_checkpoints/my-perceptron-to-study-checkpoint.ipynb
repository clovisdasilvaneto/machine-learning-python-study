{
 "cells": [
  {
   "cell_type": "code",
   "execution_count": 118,
   "metadata": {},
   "outputs": [
    {
     "name": "stdout",
     "output_type": "stream",
     "text": [
      "3\n"
     ]
    },
    {
     "data": {
      "text/plain": [
       "1"
      ]
     },
     "execution_count": 118,
     "metadata": {},
     "output_type": "execute_result"
    }
   ],
   "source": [
    "import random;\n",
    "\n",
    "class Perceptron:\n",
    "    def __init__(self, amostras, saidas, taxa_aprendizado=0.1, limiar=-1, epocas=1000):\n",
    "        self.amostras = amostras\n",
    "        self.saidas = saidas\n",
    "        self.taxa_aprendizado = taxa_aprendizado\n",
    "        self.limiar = limiar\n",
    "        self.epocas = epocas\n",
    "        self.n_amostras = len(amostras)\n",
    "        self.n_atributos = len(amostras[0])\n",
    "        self.pesos = []\n",
    "        \n",
    "    def train(self):\n",
    "        sum_epocas = 0;\n",
    "        \n",
    "        for amostra in self.amostras:\n",
    "            amostra.insert(0, self.limiar);\n",
    "        \n",
    "        for i in range(self.n_atributos):\n",
    "            self.pesos.append(random.random());\n",
    "\n",
    "        self.pesos.insert(0, self.limiar)\n",
    "        \n",
    "        while(True):\n",
    "            err = False;\n",
    "            sum_epocas += 1;\n",
    "            \n",
    "            for i in range(self.n_amostras): \n",
    "                u = 0\n",
    "                for j in range(self.n_atributos + 1):\n",
    "                    u += self.pesos[j] * self.amostras[i][j]\n",
    "                    \n",
    "                y = self.degrau(u)\n",
    "                if(y != self.saidas[i]):\n",
    "                    err_aux = self.saidas[i] - y\n",
    "\n",
    "                    for j in range(self.n_atributos + 1):\n",
    "                        self.pesos[j] = self.pesos[j] + self.taxa_aprendizado * err_aux * self.amostras[i][j]\n",
    "                    \n",
    "                    err = True\n",
    "                    \n",
    "            if(err == False or sum_epocas == self.epocas):\n",
    "                print(sum_epocas)\n",
    "                break\n",
    "                \n",
    "    def degrau(self, u):\n",
    "        if(u >= 0):\n",
    "            return 1\n",
    "        return -1\n",
    "    \n",
    "    def test(self, amostra):\n",
    "        amostra.insert(0,self.limiar)\n",
    "        u = 0\n",
    "        for i in range(self.n_atributos+1):\n",
    "            u += self.pesos[i] * amostra[i]\n",
    "        \n",
    "        return self.degrau(u);\n",
    "        \n",
    "## OR\n",
    "## RGB\n",
    "amostras = [[0.72, 0.82], [0.91, -0.69],\n",
    "\t\t\t\t[0.46, 0.80],   [0.03, 0.93],\n",
    "\t\t\t\t[0.12, 0.25],   [0.96, 0.47],\n",
    "\t\t\t\t[0.8, -0.75],   [0.46, 0.98],\n",
    "\t\t\t\t[0.66, 0.24],   [0.72, -0.15],\n",
    "\t\t\t\t[0.35, 0.01],   [-0.16, 0.84],\n",
    "\t\t\t\t[-0.04, 0.68],  [-0.11, 0.1],\n",
    "\t\t\t\t[0.31, -0.96],   [0.0, -0.26],\n",
    "\t\t\t\t[-0.43, -0.65],  [0.57, -0.97],\n",
    "\t\t\t\t[-0.47, -0.03],  [-0.72, -0.64],\n",
    "\t\t\t\t[-0.57, 0.15],   [-0.25, -0.43],\n",
    "\t\t\t\t[0.47, -0.88],   [-0.12, -0.9],\n",
    "\t\t\t\t[-0.58, 0.62],   [-0.48, 0.05],\n",
    "\t\t\t\t[-0.79, -0.92],  [-0.42, -0.09],\n",
    "\t\t\t\t[-0.76, 0.65],   [-0.77, -0.76]]\n",
    "\n",
    "saidas = [-1,-1,-1,-1,-1,-1, -1,-1,\n",
    "\t\t\t-1,-1,-1,-1,-1,1,1,1,1,\n",
    "\t\t\t1,1,1,1,1,1,1,1,1,1,1,1,1]\n",
    "rede = Perceptron(amostras, saidas)\n",
    "rede.train()\n",
    "rede.test([-0.77, -0.76])\n"
   ]
  },
  {
   "cell_type": "code",
   "execution_count": null,
   "metadata": {
    "collapsed": true
   },
   "outputs": [],
   "source": []
  },
  {
   "cell_type": "code",
   "execution_count": null,
   "metadata": {
    "collapsed": true
   },
   "outputs": [],
   "source": []
  },
  {
   "cell_type": "code",
   "execution_count": null,
   "metadata": {
    "collapsed": true
   },
   "outputs": [],
   "source": []
  },
  {
   "cell_type": "code",
   "execution_count": null,
   "metadata": {
    "collapsed": true
   },
   "outputs": [],
   "source": []
  }
 ],
 "metadata": {
  "kernelspec": {
   "display_name": "Python 3",
   "language": "python",
   "name": "python3"
  },
  "language_info": {
   "codemirror_mode": {
    "name": "ipython",
    "version": 3
   },
   "file_extension": ".py",
   "mimetype": "text/x-python",
   "name": "python",
   "nbconvert_exporter": "python",
   "pygments_lexer": "ipython3",
   "version": "3.6.1"
  }
 },
 "nbformat": 4,
 "nbformat_minor": 2
}
