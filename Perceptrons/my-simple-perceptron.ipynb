{
 "cells": [
  {
   "cell_type": "code",
   "execution_count": 5,
   "metadata": {
    "collapsed": true
   },
   "outputs": [],
   "source": [
    "import numpy as np;\n",
    "import random;\n",
    "import matplotlib.pyplot as plt\n",
    "from sklearn import datasets;\n",
    "from sklearn.model_selection import train_test_split;\n",
    "\n",
    "class Perceptron:\n",
    "    def __init__(self, amostras, saidas, taxa_aprendizado=0.1, epocas=1000, limiar=-1):\n",
    "        self.amostras = amostras.tolist();\n",
    "        self.saidas = saidas.tolist();\n",
    "        self.taxa_aprendizado = taxa_aprendizado;\n",
    "        self.epocas = epocas;\n",
    "        self.limiar = limiar\n",
    "        self.n_amostras = len(amostras);\n",
    "        self.n_attr_amostra = len(amostras[0]);\n",
    "        self.pesos = [];\n",
    "    \n",
    "    def train(self):\n",
    "        n_epocas = 0;\n",
    "        \n",
    "        for amostra in self.amostras:\n",
    "            amostra.insert(0,-1);\n",
    "            \n",
    "        for i in range(self.n_attr_amostra):\n",
    "            self.pesos.append(random.random())\n",
    "        \n",
    "        self.pesos.insert(0, self.limiar);\n",
    "\n",
    "        while(True):\n",
    "            n_epocas += 1;\n",
    "            err = False;\n",
    "            \n",
    "            for i in range(self.n_amostras):\n",
    "                u = 0;\n",
    "                for j in range(self.n_attr_amostra + 1):\n",
    "                    u += self.pesos[j] * self.amostras[i][j]\n",
    "\n",
    "                # obtém a saída da rede\n",
    "                y = self.sinal(u);\n",
    "                \n",
    "                # verifica se a saida da rede é diferente da saída desejada\n",
    "                if(y != self.saidas[i]):\n",
    "                    err_aux = self.saidas[i] - y;\n",
    "                    \n",
    "                    # faz o ajuste dos pesos para cada elemento da amostra\n",
    "                    for j in range(self.n_attr_amostra + 1):\n",
    "                        self.pesos[j] = self.pesos[j] + self.taxa_aprendizado * err_aux * self.amostras[i][j];\n",
    "                        \n",
    "                    # O erro ainda existe\n",
    "                    err = True;\n",
    "            \n",
    "            if(not err or n_epocas == self.epocas):\n",
    "                break\n",
    "\n",
    "    def test(self, amostra):\n",
    "        amostra = amostra.tolist()\n",
    "        amostra.insert(0, -1);\n",
    "        u = 0;\n",
    "        \n",
    "        for i in range(self.n_attr_amostra+1):\n",
    "            u += self.pesos[i] * amostra[i]\n",
    "            \n",
    "        # obtém a saída da rede\n",
    "        return self.sinal(u);\n",
    "                \n",
    "    def degrau(self, u):\n",
    "        if(u >= 0):\n",
    "            return 1;\n",
    "        return 0;\n",
    "    \n",
    "    def sinal(self, u):\n",
    "        if(u >= 0):\n",
    "            return 1;\n",
    "        return -1;"
   ]
  },
  {
   "cell_type": "code",
   "execution_count": 245,
   "metadata": {
    "collapsed": true
   },
   "outputs": [],
   "source": [
    "dataset = datasets.load_iris();\n",
    "amostras, saidas = dataset.data[:100], dataset.target[:100];\n",
    "\n",
    "saidas[saidas == 0] = -1;\n",
    "\n",
    "X_train, X_test, y_train, y_test = train_test_split(amostras, saidas, test_size=0.33, random_state=0);\n",
    "\n",
    " \n",
    "plt.scatter(X_train[:,1], X_train[:,0], c=y_train)\n",
    "plt.title(\"Setosa x versicolor\" )\n",
    "plt.xlabel('Sepal.Width')\n",
    "plt.ylabel('Sepal.Length')\n",
    "# plt.show();\n",
    "\n",
    "rede = Perceptron(X_train, y_train);\n",
    "rede.train()"
   ]
  },
  {
   "cell_type": "code",
   "execution_count": 253,
   "metadata": {},
   "outputs": [
    {
     "name": "stdout",
     "output_type": "stream",
     "text": [
      "33 33\n"
     ]
    }
   ],
   "source": [
    "hits = 0;\n",
    "\n",
    "for i in range(len(X_test)):\n",
    "    if(rede.test(X_test[i]) == y_test[i]):\n",
    "        hits += 1\n",
    "\n",
    "print(hits, len(X_test))"
   ]
  },
  {
   "cell_type": "code",
   "execution_count": 117,
   "metadata": {
    "collapsed": true
   },
   "outputs": [],
   "source": [
    "\n",
    "# OR\n",
    "\n",
    "# Using degrau\n",
    "# my_amostras = [[0,0], [0,1], [1,0], [1,1]]\n",
    "# my_saidas = [0,1,1,1];\n",
    "\n",
    "# p = Perceptron(my_amostras, my_saidas);\n",
    "# p.train()\n",
    "# p.test([1,0])\n",
    "\n",
    "# amostras = [[0.1, 0.4, 0.7], [0.3, 0.7, 0.2],\n",
    "#             [0.6, 0.9, 0.8], [0.5, 0.7, 0.1]]\n",
    "# saidas = [1, -1, -1, 1]\n",
    "# rede = Perceptron(amostras, saidas)\n",
    "# rede.train()\n",
    "# rede.test([0.3, 0.7, 0.2])\n",
    "\n",
    "\n",
    "# blue ou red?\n",
    "# amostras = [[0.72, 0.82], [0.91, -0.69],\n",
    "# \t\t\t\t[0.46, 0.80],   [0.03, 0.93],\n",
    "# \t\t\t\t[0.12, 0.25],   [0.96, 0.47],\n",
    "# \t\t\t\t[0.8, -0.75],   [0.46, 0.98],\n",
    "# \t\t\t\t[0.66, 0.24],   [0.72, -0.15],\n",
    "# \t\t\t\t[0.35, 0.01],   [-0.16, 0.84],\n",
    "# \t\t\t\t[-0.04, 0.68],  [-0.11, 0.1],\n",
    "# \t\t\t\t[0.31, -0.96],   [0.0, -0.26],\n",
    "# \t\t\t\t[-0.43, -0.65],  [0.57, -0.97],\n",
    "# \t\t\t\t[-0.47, -0.03],  [-0.72, -0.64],\n",
    "# \t\t\t\t[-0.57, 0.15],   [-0.25, -0.43],\n",
    "# \t\t\t\t[0.47, -0.88],   [-0.12, -0.9],\n",
    "# \t\t\t\t[-0.58, 0.62],   [-0.48, 0.05],\n",
    "# \t\t\t\t[-0.79, -0.92],  [-0.42, -0.09],\n",
    "# \t\t\t\t[-0.76, 0.65],   [-0.77, -0.76]]\n",
    "\n",
    "# saidas = [-1,-1,-1,-1,-1,-1, -1,-1,\n",
    "# \t\t\t-1,-1,-1,-1,-1,1,1,1,1,\n",
    "# \t\t\t1,1,1,1,1,1,1,1,1,1,1,1,1]\n",
    "# rede = Perceptron(amostras, saidas)\n",
    "# rede.train()\n",
    "# rede.test([-0.79, -0.92])"
   ]
  },
  {
   "cell_type": "code",
   "execution_count": null,
   "metadata": {
    "collapsed": true
   },
   "outputs": [],
   "source": []
  }
 ],
 "metadata": {
  "kernelspec": {
   "display_name": "Python 3",
   "language": "python",
   "name": "python3"
  },
  "language_info": {
   "codemirror_mode": {
    "name": "ipython",
    "version": 3
   },
   "file_extension": ".py",
   "mimetype": "text/x-python",
   "name": "python",
   "nbconvert_exporter": "python",
   "pygments_lexer": "ipython3",
   "version": "3.6.1"
  }
 },
 "nbformat": 4,
 "nbformat_minor": 2
}
